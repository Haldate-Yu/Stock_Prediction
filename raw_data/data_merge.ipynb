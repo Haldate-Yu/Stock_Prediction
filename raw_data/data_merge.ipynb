{
 "cells": [
  {
   "cell_type": "code",
   "execution_count": 1,
   "id": "332e5178-e0f3-43ff-9b25-38daeb98cdd8",
   "metadata": {},
   "outputs": [],
   "source": [
    "import pandas as pd\n",
    "import numpy as np\n",
    "import os\n",
    "from tqdm import tqdm\n",
    "\n",
    "\n",
    "def read_and_prepare_data(base_path, rmt_path):\n",
    "\t\"\"\"\n",
    "\t读取所有个股数据，计算收益率 rit，合并市场收益率 rmt，准备成标准格式\n",
    "\t返回包含：['DATE', 'CODE', 'CLOSE', 'RET'] 的标准面板数据\n",
    "\t\"\"\"\n",
    "\tdf_all_trd = pd.DataFrame()\n",
    "\tfiles = os.listdir(base_path)[:-2]\n",
    "\trmt_df = pd.read_excel(rmt_path)\n",
    "\trmt_df.rename(columns={'date': 'Trddt'}, inplace=True)\n",
    "\trmt_df['Trddt'] = rmt_df['Trddt'].astype(str)\n",
    "\n",
    "\t# 添加外层进度条：年文件夹\n",
    "\tfor file in tqdm(files[7:33], desc=\"年份进度\"):\n",
    "\t\tpackage2 = os.path.join(base_path, file)\n",
    "\t\tfiles2 = os.listdir(package2)\n",
    "\n",
    "\t\t# 添加内层进度条：每年中的个股文件\n",
    "\t\tfor file2 in tqdm(files2, desc=f\"{file} 股票文件\", leave=False):\n",
    "\t\t\tdf_year = pd.read_excel(os.path.join(package2, file2))\n",
    "\t\t\tdf_all_trd = pd.concat([df_all_trd, df_year])\n",
    "\n",
    "\tdf_all_trd.drop(index=(df_all_trd.loc[(df_all_trd['Scode'] == '股票代码')].index), inplace=True)\n",
    "\tdf_all_trd['Stkcd'] = 'a' + df_all_trd['Scode']\n",
    "\tdf_all_trd['Dclsprc'] = df_all_trd['Dclsprc'].astype(float)\n",
    "\tdf_all_trd['Dclsprcp'] = df_all_trd['Dclsprcp'].astype(float)\n",
    "\tdf_all_trd['rit'] = (df_all_trd['Dclsprc'] - df_all_trd['Dclsprcp']) / df_all_trd['Dclsprcp']\n",
    "\n",
    "\tdf_all_trd = pd.merge(df_all_trd, rmt_df[['Trddt', 'rmt']], on='Trddt', how='left')\n",
    "\tdf_all_trd.rename(columns={'Trddt': 'DATE', 'Stkcd': 'CODE', 'Dclsprc': 'CLOSE'}, inplace=True)\n",
    "\tdf_all_trd['DATE'] = pd.to_datetime(df_all_trd['DATE'])\n",
    "\tdf_all_trd['RET'] = df_all_trd['rit']\n",
    "\n",
    "\treturn df_all_trd[['DATE', 'CODE', 'CLOSE', 'RET']].dropna()"
   ]
  },
  {
   "cell_type": "code",
   "execution_count": null,
   "id": "24d80e3e-d20b-497f-933a-5ab52b6946ac",
   "metadata": {},
   "outputs": [],
   "source": [
    "# 设置路径\n",
    "base_path = r'D:\\data\\个股日回报率\\\\'\n",
    "rmt_path = r'D:\\data\\expanded_model_return.xlsx'\n",
    "\n",
    "# 读取数据\n",
    "df_panel = read_and_prepare_data(base_path, rmt_path)"
   ]
  }
 ],
 "metadata": {
  "kernelspec": {
   "display_name": "Python [conda env:base] *",
   "language": "python",
   "name": "conda-base-py"
  },
  "language_info": {
   "codemirror_mode": {
    "name": "ipython",
    "version": 3
   },
   "file_extension": ".py",
   "mimetype": "text/x-python",
   "name": "python",
   "nbconvert_exporter": "python",
   "pygments_lexer": "ipython3",
   "version": "3.12.7"
  }
 },
 "nbformat": 4,
 "nbformat_minor": 5
}
